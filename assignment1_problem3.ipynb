{
 "cells": [
  {
   "cell_type": "markdown",
   "metadata": {},
   "source": [
    "<h1><center>Pham Kevin - Fraisse Florian - Mohammad-Javad Darvishi </center></h1>"
   ]
  },
  {
   "cell_type": "markdown",
   "metadata": {},
   "source": [
    "<h2><center> Representation Learning - IFT6135</center></h2>\n",
    "<h2><center> Assignment 1 - Problem 3</center></h2>"
   ]
  },
  {
   "cell_type": "code",
   "execution_count": 0,
   "metadata": {
    "colab": {},
    "colab_type": "code",
    "id": "Q9C_uQxe8jNq"
   },
   "outputs": [],
   "source": [
    "import csv\n",
    "import keras\n",
    "from keras.models import Sequential\n",
    "from keras.layers.core import Dense, Activation, Flatten, Dropout\n",
    "from keras.layers import Conv2D,MaxPooling2D,LeakyReLU\n",
    "from keras.optimizers import SGD\n",
    "import numpy as np\n",
    "import matplotlib.pyplot as plt"
   ]
  },
  {
   "cell_type": "code",
   "execution_count": 13,
   "metadata": {
    "colab": {
     "base_uri": "https://localhost:8080/",
     "height": 34
    },
    "colab_type": "code",
    "id": "FZ6oNpRj8yrz",
    "outputId": "4c1a2570-995c-4812-ff9f-59cd062d8a75"
   },
   "outputs": [
    {
     "name": "stdout",
     "output_type": "stream",
     "text": [
      "Drive already mounted at /content/drive; to attempt to forcibly remount, call drive.mount(\"/content/drive\", force_remount=True).\n"
     ]
    }
   ],
   "source": [
    "from google.colab import drive\n",
    "drive.mount('/content/drive')"
   ]
  },
  {
   "cell_type": "code",
   "execution_count": 0,
   "metadata": {
    "colab": {},
    "colab_type": "code",
    "id": "OsJOYVsZ8yvi"
   },
   "outputs": [],
   "source": [
    "dir_path = '/content/drive/My Drive/UDEM_winter_semester/LearningRepresentation/Assigment1/trainset/'"
   ]
  },
  {
   "cell_type": "code",
   "execution_count": 0,
   "metadata": {
    "colab": {},
    "colab_type": "code",
    "id": "mtdgk9ATCZMt"
   },
   "outputs": [],
   "source": [
    "test_data = np.load(dir_path+'test_data.npy')\n"
   ]
  },
  {
   "cell_type": "code",
   "execution_count": 0,
   "metadata": {
    "colab": {},
    "colab_type": "code",
    "id": "tl1yBXjZ8syD"
   },
   "outputs": [],
   "source": [
    "train_data = np.load(dir_path+'train_data.npy')\n",
    "train_labels = np.load(dir_path+'train_labels.npy')\n",
    "train_data = train_data/255\n",
    "train_labels = train_labels.astype(int)"
   ]
  },
  {
   "cell_type": "code",
   "execution_count": 33,
   "metadata": {
    "colab": {
     "base_uri": "https://localhost:8080/",
     "height": 50
    },
    "colab_type": "code",
    "id": "98Ehpib59Yr-",
    "outputId": "22b3cbaf-17a1-49ab-8995-0e625dbf74a8"
   },
   "outputs": [
    {
     "name": "stdout",
     "output_type": "stream",
     "text": [
      "(19998, 64, 64, 3)\n",
      "(19998, 1)\n"
     ]
    }
   ],
   "source": [
    "print(train_data.shape)\n",
    "print(train_labels.shape)"
   ]
  },
  {
   "cell_type": "code",
   "execution_count": 0,
   "metadata": {
    "colab": {},
    "colab_type": "code",
    "id": "BkOea5lO-87D"
   },
   "outputs": [],
   "source": [
    "from sklearn.model_selection import train_test_split\n",
    "train_X,valid_X,train_label,valid_label = train_test_split(train_data, train_labels, test_size=0.2)"
   ]
  },
  {
   "cell_type": "code",
   "execution_count": 0,
   "metadata": {
    "colab": {},
    "colab_type": "code",
    "id": "4-f3KwRb9sCL"
   },
   "outputs": [],
   "source": [
    "batch_size = 64\n",
    "epochs = 30"
   ]
  },
  {
   "cell_type": "code",
   "execution_count": 0,
   "metadata": {
    "colab": {},
    "colab_type": "code",
    "id": "ZHRrzXqq93ua"
   },
   "outputs": [],
   "source": [
    "#1rst model\n",
    "\n",
    "# classifier = Sequential()\n",
    "\n",
    "# classifier.add(Conv2D(32, kernel_size=(3,3),activation='linear',padding='same',input_shape=(64,64,3)))\n",
    "# classifier.add(LeakyReLU(alpha=0.1))\n",
    "# classifier.add(Conv2D(64, (3,3), activation='linear',padding='same'))\n",
    "# classifier.add(LeakyReLU(alpha=0.1))\n",
    "# classifier.add(MaxPooling2D(pool_size=(2, 2),padding='same'))\n",
    "\n",
    "# classifier.add(Conv2D(128, (3,3), activation='linear',padding='same'))\n",
    "# classifier.add(LeakyReLU(alpha=0.1))                  \n",
    "# classifier.add(MaxPooling2D(pool_size=(2, 2),padding='same'))\n",
    "\n",
    "# classifier.add(Conv2D(256, (3,3),activation='linear',padding='same'))\n",
    "# classifier.add(LeakyReLU(alpha=0.1))\n",
    "# classifier.add(MaxPooling2D((2, 2),padding='same'))\n",
    "\n",
    "# classifier.add(Flatten())\n",
    "\n",
    "# classifier.add(Dense(256, activation='linear'))\n",
    "# classifier.add(Dense(512, activation='linear'))\n",
    "\n",
    "# classifier.add(LeakyReLU(alpha=0.1))           \n",
    "# classifier.add(Dense(1, activation='sigmoid'))"
   ]
  },
  {
   "cell_type": "code",
   "execution_count": 0,
   "metadata": {
    "colab": {},
    "colab_type": "code",
    "id": "jh696G5Ogj4T"
   },
   "outputs": [],
   "source": [
    "#2nd model\n",
    "\n",
    "classifier = Sequential()\n",
    "\n",
    "classifier.add(Conv2D(32, kernel_size=(3,3),activation='linear',padding='same',input_shape=(64,64,3)))\n",
    "classifier.add(LeakyReLU(alpha=0.1))\n",
    "classifier.add(Conv2D(32, (3,3), activation='linear',padding='same'))\n",
    "classifier.add(LeakyReLU(alpha=0.1))\n",
    "classifier.add(MaxPooling2D(pool_size=(2, 2),padding='same'))\n",
    "\n",
    "classifier.add(Conv2D(64, (3,3), activation='linear',padding='same'))\n",
    "classifier.add(LeakyReLU(alpha=0.1))      \n",
    "classifier.add(Conv2D(64, (3,3), activation='linear',padding='same'))\n",
    "classifier.add(LeakyReLU(alpha=0.1))  \n",
    "classifier.add(MaxPooling2D(pool_size=(2, 2),padding='same'))\n",
    "\n",
    "classifier.add(Conv2D(128, (3,3),activation='linear',padding='same'))\n",
    "classifier.add(LeakyReLU(alpha=0.1))\n",
    "classifier.add(Conv2D(128, (3,3),activation='linear',padding='same'))\n",
    "classifier.add(LeakyReLU(alpha=0.1))\n",
    "classifier.add(MaxPooling2D(pool_size=(2, 2),padding='same'))\n",
    "\n",
    "classifier.add(Conv2D(256, (3,3),activation='linear',padding='same'))\n",
    "classifier.add(LeakyReLU(alpha=0.1))\n",
    "classifier.add(Conv2D(256, (3,3),activation='linear',padding='same'))\n",
    "classifier.add(LeakyReLU(alpha=0.1))\n",
    "classifier.add(MaxPooling2D((2, 2),padding='same',strides=2))\n",
    "\n",
    "classifier.add(Flatten())\n",
    "\n",
    "classifier.add(Dense(256, activation='linear'))\n",
    "classifier.add(LeakyReLU(alpha=0.1))\n",
    "classifier.add(Dense(256, activation='linear'))\n",
    "classifier.add(LeakyReLU(alpha=0.1))     \n",
    "\n",
    "classifier.add(Dense(1, activation='sigmoid'))"
   ]
  },
  {
   "cell_type": "code",
   "execution_count": 0,
   "metadata": {
    "colab": {},
    "colab_type": "code",
    "id": "ORuwWn8MOznX"
   },
   "outputs": [],
   "source": [
    "#VGG network\n",
    "\n",
    "# classifier = Sequential()\n",
    "\n",
    "# classifier.add(Conv2D(16, kernel_size=(3,3),activation='linear',padding='same',input_shape=(64,64,3)))\n",
    "# classifier.add(LeakyReLU(alpha=0.1))\n",
    "# classifier.add(Conv2D(16, (3,3), activation='linear',padding='same'))\n",
    "# classifier.add(LeakyReLU(alpha=0.1))\n",
    "# classifier.add(MaxPooling2D(pool_size=(2, 2),padding='same'))\n",
    "\n",
    "# classifier.add(Conv2D(32, (3,3), activation='linear',padding='same'))\n",
    "# classifier.add(LeakyReLU(alpha=0.1))      \n",
    "# classifier.add(Conv2D(32, (3,3), activation='linear',padding='same'))\n",
    "# classifier.add(LeakyReLU(alpha=0.1))  \n",
    "# classifier.add(MaxPooling2D(pool_size=(2, 2),padding='same'))\n",
    "\n",
    "# classifier.add(Conv2D(64, (3,3),activation='linear',padding='same'))\n",
    "# classifier.add(LeakyReLU(alpha=0.1))\n",
    "# classifier.add(Conv2D(64, (3,3),activation='linear',padding='same'))\n",
    "# classifier.add(LeakyReLU(alpha=0.1))\n",
    "# classifier.add(Conv2D(64, (3,3),activation='linear',padding='same'))\n",
    "# classifier.add(LeakyReLU(alpha=0.1))\n",
    "# classifier.add(MaxPooling2D(pool_size=(2, 2),padding='same'))\n",
    "\n",
    "# classifier.add(Conv2D(128, (3,3),activation='linear',padding='same'))\n",
    "# classifier.add(LeakyReLU(alpha=0.1))\n",
    "# classifier.add(Conv2D(128, (3,3),activation='linear',padding='same'))\n",
    "# classifier.add(LeakyReLU(alpha=0.1))\n",
    "# classifier.add(Conv2D(128, (3,3),activation='linear',padding='same'))\n",
    "# classifier.add(LeakyReLU(alpha=0.1))\n",
    "# classifier.add(MaxPooling2D(pool_size=(2, 2),padding='same'))\n",
    "\n",
    "# classifier.add(Conv2D(256, (3,3),activation='linear',padding='same'))\n",
    "# classifier.add(LeakyReLU(alpha=0.1))\n",
    "# classifier.add(Conv2D(256, (3,3),activation='linear',padding='same'))\n",
    "# classifier.add(LeakyReLU(alpha=0.1))\n",
    "# classifier.add(Conv2D(256, (3,3),activation='linear',padding='same'))\n",
    "# classifier.add(LeakyReLU(alpha=0.1))\n",
    "# classifier.add(MaxPooling2D(pool_size=(2, 2),padding='same'))\n",
    "\n",
    "# classifier.add(Flatten())\n",
    "\n",
    "# classifier.add(Dense(1024, activation='linear'))\n",
    "# classifier.add(LeakyReLU(alpha=0.1))\n",
    "# classifier.add(Dense(1024, activation='linear'))\n",
    "# classifier.add(LeakyReLU(alpha=0.1))     \n",
    "\n",
    "# classifier.add(Dense(1, activation='sigmoid'))\n"
   ]
  },
  {
   "cell_type": "code",
   "execution_count": 31,
   "metadata": {
    "colab": {
     "base_uri": "https://localhost:8080/",
     "height": 1008
    },
    "colab_type": "code",
    "id": "iP_YTbW_98Iw",
    "outputId": "8cfe3e90-7d20-4bd6-cd5b-af21b2ecadb0"
   },
   "outputs": [
    {
     "name": "stdout",
     "output_type": "stream",
     "text": [
      "_________________________________________________________________\n",
      "Layer (type)                 Output Shape              Param #   \n",
      "=================================================================\n",
      "conv2d_40 (Conv2D)           (None, 64, 64, 32)        896       \n",
      "_________________________________________________________________\n",
      "leaky_re_lu_46 (LeakyReLU)   (None, 64, 64, 32)        0         \n",
      "_________________________________________________________________\n",
      "conv2d_41 (Conv2D)           (None, 64, 64, 32)        9248      \n",
      "_________________________________________________________________\n",
      "leaky_re_lu_47 (LeakyReLU)   (None, 64, 64, 32)        0         \n",
      "_________________________________________________________________\n",
      "max_pooling2d_16 (MaxPooling (None, 32, 32, 32)        0         \n",
      "_________________________________________________________________\n",
      "conv2d_42 (Conv2D)           (None, 32, 32, 64)        18496     \n",
      "_________________________________________________________________\n",
      "leaky_re_lu_48 (LeakyReLU)   (None, 32, 32, 64)        0         \n",
      "_________________________________________________________________\n",
      "conv2d_43 (Conv2D)           (None, 32, 32, 64)        36928     \n",
      "_________________________________________________________________\n",
      "leaky_re_lu_49 (LeakyReLU)   (None, 32, 32, 64)        0         \n",
      "_________________________________________________________________\n",
      "max_pooling2d_17 (MaxPooling (None, 16, 16, 64)        0         \n",
      "_________________________________________________________________\n",
      "conv2d_44 (Conv2D)           (None, 16, 16, 128)       73856     \n",
      "_________________________________________________________________\n",
      "leaky_re_lu_50 (LeakyReLU)   (None, 16, 16, 128)       0         \n",
      "_________________________________________________________________\n",
      "conv2d_45 (Conv2D)           (None, 16, 16, 128)       147584    \n",
      "_________________________________________________________________\n",
      "leaky_re_lu_51 (LeakyReLU)   (None, 16, 16, 128)       0         \n",
      "_________________________________________________________________\n",
      "max_pooling2d_18 (MaxPooling (None, 8, 8, 128)         0         \n",
      "_________________________________________________________________\n",
      "conv2d_46 (Conv2D)           (None, 8, 8, 256)         295168    \n",
      "_________________________________________________________________\n",
      "leaky_re_lu_52 (LeakyReLU)   (None, 8, 8, 256)         0         \n",
      "_________________________________________________________________\n",
      "conv2d_47 (Conv2D)           (None, 8, 8, 256)         590080    \n",
      "_________________________________________________________________\n",
      "leaky_re_lu_53 (LeakyReLU)   (None, 8, 8, 256)         0         \n",
      "_________________________________________________________________\n",
      "max_pooling2d_19 (MaxPooling (None, 4, 4, 256)         0         \n",
      "_________________________________________________________________\n",
      "flatten_4 (Flatten)          (None, 4096)              0         \n",
      "_________________________________________________________________\n",
      "dense_10 (Dense)             (None, 256)               1048832   \n",
      "_________________________________________________________________\n",
      "leaky_re_lu_54 (LeakyReLU)   (None, 256)               0         \n",
      "_________________________________________________________________\n",
      "dense_11 (Dense)             (None, 256)               65792     \n",
      "_________________________________________________________________\n",
      "leaky_re_lu_55 (LeakyReLU)   (None, 256)               0         \n",
      "_________________________________________________________________\n",
      "dense_12 (Dense)             (None, 1)                 257       \n",
      "=================================================================\n",
      "Total params: 2,287,137\n",
      "Trainable params: 2,287,137\n",
      "Non-trainable params: 0\n",
      "_________________________________________________________________\n"
     ]
    }
   ],
   "source": [
    "opt = keras.optimizers.SGD(lr=0.01, decay=0.0, momentum=0.0, nesterov=False)\n",
    "classifier.compile(loss=\"binary_crossentropy\", optimizer=opt,metrics=['accuracy'])\n",
    "classifier.summary()"
   ]
  },
  {
   "cell_type": "code",
   "execution_count": 32,
   "metadata": {
    "colab": {
     "base_uri": "https://localhost:8080/",
     "height": 1042
    },
    "colab_type": "code",
    "id": "4rSracuh-oJX",
    "outputId": "3af49a10-5eba-4ba2-cec9-7e7480c5c469"
   },
   "outputs": [
    {
     "name": "stdout",
     "output_type": "stream",
     "text": [
      "Train on 15998 samples, validate on 4000 samples\n",
      "Epoch 1/30\n",
      "15998/15998 [==============================] - 21s 1ms/step - loss: 0.6930 - acc: 0.5189 - val_loss: 0.6927 - val_acc: 0.5625\n",
      "Epoch 2/30\n",
      "15998/15998 [==============================] - 19s 1ms/step - loss: 0.6925 - acc: 0.5330 - val_loss: 0.6923 - val_acc: 0.5617\n",
      "Epoch 3/30\n",
      "15998/15998 [==============================] - 19s 1ms/step - loss: 0.6921 - acc: 0.5482 - val_loss: 0.6924 - val_acc: 0.4910\n",
      "Epoch 4/30\n",
      "15998/15998 [==============================] - 19s 1ms/step - loss: 0.6917 - acc: 0.5465 - val_loss: 0.6913 - val_acc: 0.5497\n",
      "Epoch 5/30\n",
      "15998/15998 [==============================] - 18s 1ms/step - loss: 0.6910 - acc: 0.5691 - val_loss: 0.6907 - val_acc: 0.5735\n",
      "Epoch 6/30\n",
      "15998/15998 [==============================] - 19s 1ms/step - loss: 0.6899 - acc: 0.5667 - val_loss: 0.6891 - val_acc: 0.5710\n",
      "Epoch 7/30\n",
      "15998/15998 [==============================] - 18s 1ms/step - loss: 0.6879 - acc: 0.5638 - val_loss: 0.6873 - val_acc: 0.5637\n",
      "Epoch 8/30\n",
      "15998/15998 [==============================] - 19s 1ms/step - loss: 0.6844 - acc: 0.5655 - val_loss: 0.6828 - val_acc: 0.5663\n",
      "Epoch 9/30\n",
      "15998/15998 [==============================] - 18s 1ms/step - loss: 0.6802 - acc: 0.5696 - val_loss: 0.6760 - val_acc: 0.5830\n",
      "Epoch 10/30\n",
      "15998/15998 [==============================] - 19s 1ms/step - loss: 0.6747 - acc: 0.5804 - val_loss: 0.6741 - val_acc: 0.5998\n",
      "Epoch 11/30\n",
      "15998/15998 [==============================] - 18s 1ms/step - loss: 0.6706 - acc: 0.5892 - val_loss: 0.6685 - val_acc: 0.6040\n",
      "Epoch 12/30\n",
      "15998/15998 [==============================] - 18s 1ms/step - loss: 0.6651 - acc: 0.5988 - val_loss: 0.6680 - val_acc: 0.5903\n",
      "Epoch 13/30\n",
      "15998/15998 [==============================] - 19s 1ms/step - loss: 0.6568 - acc: 0.6100 - val_loss: 0.6783 - val_acc: 0.5743\n",
      "Epoch 14/30\n",
      "15998/15998 [==============================] - 18s 1ms/step - loss: 0.6527 - acc: 0.6190 - val_loss: 0.6650 - val_acc: 0.5917\n",
      "Epoch 15/30\n",
      "15998/15998 [==============================] - 18s 1ms/step - loss: 0.6489 - acc: 0.6206 - val_loss: 0.6481 - val_acc: 0.6252\n",
      "Epoch 16/30\n",
      "15998/15998 [==============================] - 18s 1ms/step - loss: 0.6418 - acc: 0.6308 - val_loss: 0.6421 - val_acc: 0.6275\n",
      "Epoch 17/30\n",
      "15998/15998 [==============================] - 18s 1ms/step - loss: 0.6372 - acc: 0.6339 - val_loss: 0.6374 - val_acc: 0.6358\n",
      "Epoch 18/30\n",
      "15998/15998 [==============================] - 18s 1ms/step - loss: 0.6269 - acc: 0.6506 - val_loss: 0.6265 - val_acc: 0.6500\n",
      "Epoch 19/30\n",
      "15998/15998 [==============================] - 18s 1ms/step - loss: 0.6198 - acc: 0.6564 - val_loss: 0.6283 - val_acc: 0.6520\n",
      "Epoch 20/30\n",
      "15998/15998 [==============================] - 18s 1ms/step - loss: 0.6133 - acc: 0.6617 - val_loss: 0.6129 - val_acc: 0.6640\n",
      "Epoch 21/30\n",
      "15998/15998 [==============================] - 19s 1ms/step - loss: 0.6038 - acc: 0.6735 - val_loss: 0.6147 - val_acc: 0.6703\n",
      "Epoch 22/30\n",
      "15998/15998 [==============================] - 19s 1ms/step - loss: 0.5976 - acc: 0.6823 - val_loss: 0.6719 - val_acc: 0.6088\n",
      "Epoch 23/30\n",
      "15998/15998 [==============================] - 18s 1ms/step - loss: 0.5861 - acc: 0.6939 - val_loss: 0.5973 - val_acc: 0.6895\n",
      "Epoch 24/30\n",
      "15998/15998 [==============================] - 18s 1ms/step - loss: 0.5765 - acc: 0.7017 - val_loss: 0.6024 - val_acc: 0.6817\n",
      "Epoch 25/30\n",
      "15998/15998 [==============================] - 18s 1ms/step - loss: 0.5680 - acc: 0.7087 - val_loss: 0.5873 - val_acc: 0.6927\n",
      "Epoch 26/30\n",
      "15998/15998 [==============================] - 18s 1ms/step - loss: 0.5558 - acc: 0.7175 - val_loss: 0.6242 - val_acc: 0.6620\n",
      "Epoch 27/30\n",
      "15998/15998 [==============================] - 18s 1ms/step - loss: 0.5440 - acc: 0.7270 - val_loss: 0.5669 - val_acc: 0.7042\n",
      "Epoch 28/30\n",
      "15998/15998 [==============================] - 19s 1ms/step - loss: 0.5332 - acc: 0.7349 - val_loss: 0.5645 - val_acc: 0.7075\n",
      "Epoch 29/30\n",
      "15998/15998 [==============================] - 19s 1ms/step - loss: 0.5179 - acc: 0.7472 - val_loss: 0.6189 - val_acc: 0.6777\n",
      "Epoch 30/30\n",
      "15998/15998 [==============================] - 18s 1ms/step - loss: 0.5022 - acc: 0.7546 - val_loss: 0.6088 - val_acc: 0.6885\n"
     ]
    }
   ],
   "source": [
    "train = classifier.fit(train_X, train_label, batch_size=batch_size,epochs=epochs,verbose=1,validation_data=(valid_X, valid_label))"
   ]
  },
  {
   "cell_type": "code",
   "execution_count": 0,
   "metadata": {
    "colab": {},
    "colab_type": "code",
    "id": "EzDWBsV0v3ao"
   },
   "outputs": [],
   "source": [
    "from keras.preprocessing.image import ImageDataGenerator\n",
    "\n",
    "image_gen = ImageDataGenerator(\n",
    "        zoom_range=[0.8, 1.2],\n",
    "        featurewise_center=False,  # set input mean to 0 over the dataset\n",
    "        samplewise_center=False,  # set each sample mean to 0\n",
    "        featurewise_std_normalization=False,  # divide inputs by std of the dataset\n",
    "        samplewise_std_normalization=False,  # divide each input by its std\n",
    "        zca_whitening=False,  # apply ZCA whitening\n",
    "        zca_epsilon=1e-06,  # epsilon for ZCA whitening\n",
    "        rotation_range=0,  # randomly rotate images in the range (degrees, 0 to 180)\n",
    "        # randomly shift images horizontally (fraction of total width)\n",
    "        width_shift_range=0.1,\n",
    "        # randomly shift images vertically (fraction of total height)\n",
    "        height_shift_range=0.1,\n",
    "        shear_range=0.,  # set range for random shear\n",
    "        channel_shift_range=0.,  # set range for random channel shifts\n",
    "        # set mode for filling points outside the input boundaries\n",
    "        fill_mode='nearest',\n",
    "        cval=0.,  # value used for fill_mode = \"constant\"\n",
    "        horizontal_flip=True,  # randomly flip images\n",
    "        vertical_flip=False,  # randomly flip images\n",
    "        # set rescaling factor (applied before any other transformation)\n",
    "        rescale=None,\n",
    "        # set function that will be applied on each input\n",
    "        preprocessing_function=None,\n",
    "        # image data format, either \"channels_first\" or \"channels_last\"\n",
    "        data_format=None,\n",
    "        # fraction of images reserved for validation (strictly between 0 and 1)\n",
    "        validation_split=0.0)"
   ]
  },
  {
   "cell_type": "code",
   "execution_count": 35,
   "metadata": {
    "colab": {
     "base_uri": "https://localhost:8080/",
     "height": 3041
    },
    "colab_type": "code",
    "id": "nZ6ZXXe7v7Hu",
    "outputId": "439e42fb-3772-45f0-d019-007097f5c2d4"
   },
   "outputs": [
    {
     "name": "stdout",
     "output_type": "stream",
     "text": [
      "Epoch 1/90\n",
      "250/249 [==============================] - 26s 103ms/step - loss: 0.5599 - acc: 0.7150 - val_loss: 0.5788 - val_acc: 0.7003\n",
      "Epoch 2/90\n",
      "250/249 [==============================] - 24s 97ms/step - loss: 0.5470 - acc: 0.7245 - val_loss: 0.5334 - val_acc: 0.7347\n",
      "Epoch 3/90\n",
      "250/249 [==============================] - 24s 97ms/step - loss: 0.5440 - acc: 0.7242 - val_loss: 0.5260 - val_acc: 0.7435\n",
      "Epoch 4/90\n",
      "250/249 [==============================] - 24s 97ms/step - loss: 0.5350 - acc: 0.7311 - val_loss: 0.5199 - val_acc: 0.7420\n",
      "Epoch 5/90\n",
      "250/249 [==============================] - 24s 97ms/step - loss: 0.5307 - acc: 0.7342 - val_loss: 0.5194 - val_acc: 0.7475\n",
      "Epoch 6/90\n",
      "250/249 [==============================] - 24s 97ms/step - loss: 0.5219 - acc: 0.7426 - val_loss: 0.5050 - val_acc: 0.7540\n",
      "Epoch 7/90\n",
      "250/249 [==============================] - 24s 98ms/step - loss: 0.5151 - acc: 0.7461 - val_loss: 0.5041 - val_acc: 0.7515\n",
      "Epoch 8/90\n",
      "250/249 [==============================] - 25s 99ms/step - loss: 0.5073 - acc: 0.7503 - val_loss: 0.4923 - val_acc: 0.7602\n",
      "Epoch 9/90\n",
      "250/249 [==============================] - 24s 97ms/step - loss: 0.5017 - acc: 0.7556 - val_loss: 0.4967 - val_acc: 0.7582\n",
      "Epoch 10/90\n",
      "250/249 [==============================] - 24s 97ms/step - loss: 0.4955 - acc: 0.7569 - val_loss: 0.5047 - val_acc: 0.7547\n",
      "Epoch 11/90\n",
      "250/249 [==============================] - 24s 97ms/step - loss: 0.4894 - acc: 0.7664 - val_loss: 0.4816 - val_acc: 0.7717\n",
      "Epoch 12/90\n",
      "250/249 [==============================] - 24s 98ms/step - loss: 0.4837 - acc: 0.7670 - val_loss: 0.4623 - val_acc: 0.7817\n",
      "Epoch 13/90\n",
      "250/249 [==============================] - 25s 101ms/step - loss: 0.4755 - acc: 0.7715 - val_loss: 0.4662 - val_acc: 0.7775\n",
      "Epoch 14/90\n",
      "250/249 [==============================] - 24s 98ms/step - loss: 0.4687 - acc: 0.7788 - val_loss: 0.4803 - val_acc: 0.7632\n",
      "Epoch 15/90\n",
      "250/249 [==============================] - 24s 97ms/step - loss: 0.4671 - acc: 0.7791 - val_loss: 0.4564 - val_acc: 0.7828\n",
      "Epoch 16/90\n",
      "250/249 [==============================] - 24s 98ms/step - loss: 0.4583 - acc: 0.7836 - val_loss: 0.4481 - val_acc: 0.7880\n",
      "Epoch 17/90\n",
      "250/249 [==============================] - 25s 98ms/step - loss: 0.4522 - acc: 0.7866 - val_loss: 0.4476 - val_acc: 0.7927\n",
      "Epoch 18/90\n",
      "250/249 [==============================] - 25s 99ms/step - loss: 0.4480 - acc: 0.7902 - val_loss: 0.4596 - val_acc: 0.7800\n",
      "Epoch 19/90\n",
      "250/249 [==============================] - 25s 100ms/step - loss: 0.4398 - acc: 0.7971 - val_loss: 0.4591 - val_acc: 0.7853\n",
      "Epoch 20/90\n",
      "250/249 [==============================] - 25s 101ms/step - loss: 0.4345 - acc: 0.7965 - val_loss: 0.4862 - val_acc: 0.7620\n",
      "Epoch 21/90\n",
      "250/249 [==============================] - 25s 101ms/step - loss: 0.4298 - acc: 0.7995 - val_loss: 0.4446 - val_acc: 0.7840\n",
      "Epoch 22/90\n",
      "250/249 [==============================] - 25s 101ms/step - loss: 0.4253 - acc: 0.8043 - val_loss: 0.4227 - val_acc: 0.8062\n",
      "Epoch 23/90\n",
      "250/249 [==============================] - 25s 101ms/step - loss: 0.4195 - acc: 0.8071 - val_loss: 0.4214 - val_acc: 0.8022\n",
      "Epoch 24/90\n",
      "250/249 [==============================] - 25s 102ms/step - loss: 0.4166 - acc: 0.8090 - val_loss: 0.4181 - val_acc: 0.8017\n",
      "Epoch 25/90\n",
      "250/249 [==============================] - 25s 102ms/step - loss: 0.4153 - acc: 0.8095 - val_loss: 0.4416 - val_acc: 0.7958\n",
      "Epoch 26/90\n",
      "250/249 [==============================] - 26s 105ms/step - loss: 0.4077 - acc: 0.8144 - val_loss: 0.4082 - val_acc: 0.8128\n",
      "Epoch 27/90\n",
      "250/249 [==============================] - 26s 103ms/step - loss: 0.4013 - acc: 0.8174 - val_loss: 0.3984 - val_acc: 0.8163\n",
      "Epoch 28/90\n",
      "250/249 [==============================] - 25s 102ms/step - loss: 0.3949 - acc: 0.8177 - val_loss: 0.3982 - val_acc: 0.8157\n",
      "Epoch 29/90\n",
      "250/249 [==============================] - 26s 103ms/step - loss: 0.3930 - acc: 0.8209 - val_loss: 0.4168 - val_acc: 0.8115\n",
      "Epoch 30/90\n",
      "250/249 [==============================] - 26s 103ms/step - loss: 0.3897 - acc: 0.8205 - val_loss: 0.4016 - val_acc: 0.8182\n",
      "Epoch 31/90\n",
      "250/249 [==============================] - 26s 103ms/step - loss: 0.3792 - acc: 0.8279 - val_loss: 0.3973 - val_acc: 0.8162\n",
      "Epoch 32/90\n",
      "250/249 [==============================] - 26s 104ms/step - loss: 0.3816 - acc: 0.8302 - val_loss: 0.3941 - val_acc: 0.8197\n",
      "Epoch 33/90\n",
      "250/249 [==============================] - 26s 104ms/step - loss: 0.3736 - acc: 0.8333 - val_loss: 0.3938 - val_acc: 0.8293\n",
      "Epoch 34/90\n",
      "250/249 [==============================] - 26s 104ms/step - loss: 0.3689 - acc: 0.8325 - val_loss: 0.4154 - val_acc: 0.8047\n",
      "Epoch 35/90\n",
      "250/249 [==============================] - 26s 104ms/step - loss: 0.3714 - acc: 0.8323 - val_loss: 0.4295 - val_acc: 0.7972\n",
      "Epoch 36/90\n",
      "250/249 [==============================] - 26s 103ms/step - loss: 0.3623 - acc: 0.8346 - val_loss: 0.3809 - val_acc: 0.8282\n",
      "Epoch 37/90\n",
      "250/249 [==============================] - 25s 102ms/step - loss: 0.3631 - acc: 0.8376 - val_loss: 0.3695 - val_acc: 0.8285\n",
      "Epoch 38/90\n",
      "250/249 [==============================] - 26s 105ms/step - loss: 0.3500 - acc: 0.8423 - val_loss: 0.3734 - val_acc: 0.8345\n",
      "Epoch 39/90\n",
      "250/249 [==============================] - 27s 108ms/step - loss: 0.3488 - acc: 0.8441 - val_loss: 0.3665 - val_acc: 0.8362\n",
      "Epoch 40/90\n",
      "250/249 [==============================] - 27s 107ms/step - loss: 0.3457 - acc: 0.8455 - val_loss: 0.3725 - val_acc: 0.8300\n",
      "Epoch 41/90\n",
      "250/249 [==============================] - 27s 106ms/step - loss: 0.3449 - acc: 0.8451 - val_loss: 0.3541 - val_acc: 0.8397\n",
      "Epoch 42/90\n",
      "250/249 [==============================] - 26s 106ms/step - loss: 0.3384 - acc: 0.8505 - val_loss: 0.3669 - val_acc: 0.8335\n",
      "Epoch 43/90\n",
      "250/249 [==============================] - 27s 106ms/step - loss: 0.3356 - acc: 0.8518 - val_loss: 0.3547 - val_acc: 0.8457\n",
      "Epoch 44/90\n",
      "250/249 [==============================] - 27s 106ms/step - loss: 0.3331 - acc: 0.8539 - val_loss: 0.3693 - val_acc: 0.8345\n",
      "Epoch 45/90\n",
      "250/249 [==============================] - 27s 106ms/step - loss: 0.3272 - acc: 0.8565 - val_loss: 0.3625 - val_acc: 0.8375\n",
      "Epoch 46/90\n",
      "250/249 [==============================] - 27s 106ms/step - loss: 0.3253 - acc: 0.8552 - val_loss: 0.3537 - val_acc: 0.8467\n",
      "Epoch 47/90\n",
      "250/249 [==============================] - 27s 106ms/step - loss: 0.3214 - acc: 0.8593 - val_loss: 0.3556 - val_acc: 0.8452\n",
      "Epoch 48/90\n",
      "250/249 [==============================] - 26s 106ms/step - loss: 0.3184 - acc: 0.8565 - val_loss: 0.3660 - val_acc: 0.8365\n",
      "Epoch 49/90\n",
      "250/249 [==============================] - 27s 106ms/step - loss: 0.3161 - acc: 0.8619 - val_loss: 0.3384 - val_acc: 0.8512\n",
      "Epoch 50/90\n",
      "250/249 [==============================] - 27s 106ms/step - loss: 0.3073 - acc: 0.8661 - val_loss: 0.3485 - val_acc: 0.8512\n",
      "Epoch 51/90\n",
      "250/249 [==============================] - 27s 106ms/step - loss: 0.3071 - acc: 0.8669 - val_loss: 0.4404 - val_acc: 0.8055\n",
      "Epoch 52/90\n",
      "250/249 [==============================] - 26s 106ms/step - loss: 0.3032 - acc: 0.8673 - val_loss: 0.3428 - val_acc: 0.8530\n",
      "Epoch 53/90\n",
      "250/249 [==============================] - 27s 107ms/step - loss: 0.3052 - acc: 0.8638 - val_loss: 0.3454 - val_acc: 0.8512\n",
      "Epoch 54/90\n",
      "250/249 [==============================] - 27s 107ms/step - loss: 0.2969 - acc: 0.8701 - val_loss: 0.3444 - val_acc: 0.8520\n",
      "Epoch 55/90\n",
      "250/249 [==============================] - 27s 107ms/step - loss: 0.2987 - acc: 0.8674 - val_loss: 0.3373 - val_acc: 0.8600\n",
      "Epoch 56/90\n",
      "250/249 [==============================] - 27s 106ms/step - loss: 0.2913 - acc: 0.8707 - val_loss: 0.3274 - val_acc: 0.8625\n",
      "Epoch 57/90\n",
      "250/249 [==============================] - 27s 107ms/step - loss: 0.2846 - acc: 0.8755 - val_loss: 0.3376 - val_acc: 0.8555\n",
      "Epoch 58/90\n",
      "250/249 [==============================] - 27s 107ms/step - loss: 0.2819 - acc: 0.8787 - val_loss: 0.3617 - val_acc: 0.8515\n",
      "Epoch 59/90\n",
      "250/249 [==============================] - 27s 107ms/step - loss: 0.2861 - acc: 0.8767 - val_loss: 0.3695 - val_acc: 0.8415\n",
      "Epoch 60/90\n",
      "250/249 [==============================] - 27s 107ms/step - loss: 0.2765 - acc: 0.8814 - val_loss: 0.3182 - val_acc: 0.8665\n",
      "Epoch 61/90\n",
      "250/249 [==============================] - 27s 107ms/step - loss: 0.2671 - acc: 0.8865 - val_loss: 0.3297 - val_acc: 0.8643\n",
      "Epoch 62/90\n",
      "250/249 [==============================] - 27s 107ms/step - loss: 0.2710 - acc: 0.8834 - val_loss: 0.3251 - val_acc: 0.8650\n",
      "Epoch 63/90\n",
      "250/249 [==============================] - 27s 107ms/step - loss: 0.2678 - acc: 0.8843 - val_loss: 0.3222 - val_acc: 0.8605\n",
      "Epoch 64/90\n",
      "250/249 [==============================] - 27s 107ms/step - loss: 0.2555 - acc: 0.8897 - val_loss: 0.3335 - val_acc: 0.8595\n",
      "Epoch 65/90\n",
      "250/249 [==============================] - 27s 107ms/step - loss: 0.2594 - acc: 0.8869 - val_loss: 0.3542 - val_acc: 0.8520\n",
      "Epoch 66/90\n",
      "250/249 [==============================] - 27s 107ms/step - loss: 0.2569 - acc: 0.8915 - val_loss: 0.3279 - val_acc: 0.8615\n",
      "Epoch 67/90\n",
      "250/249 [==============================] - 27s 107ms/step - loss: 0.2485 - acc: 0.8956 - val_loss: 0.3324 - val_acc: 0.8672\n",
      "Epoch 68/90\n",
      "250/249 [==============================] - 27s 107ms/step - loss: 0.2502 - acc: 0.8911 - val_loss: 0.3278 - val_acc: 0.8637\n",
      "Epoch 69/90\n",
      "250/249 [==============================] - 27s 107ms/step - loss: 0.2463 - acc: 0.8948 - val_loss: 0.3334 - val_acc: 0.8572\n",
      "Epoch 70/90\n",
      "250/249 [==============================] - 27s 107ms/step - loss: 0.2403 - acc: 0.8986 - val_loss: 0.3237 - val_acc: 0.8607\n",
      "Epoch 71/90\n",
      "250/249 [==============================] - 27s 106ms/step - loss: 0.2439 - acc: 0.8965 - val_loss: 0.3100 - val_acc: 0.8667\n",
      "Epoch 72/90\n",
      "250/249 [==============================] - 27s 107ms/step - loss: 0.2399 - acc: 0.8991 - val_loss: 0.3206 - val_acc: 0.8665\n",
      "Epoch 73/90\n",
      "250/249 [==============================] - 27s 107ms/step - loss: 0.2291 - acc: 0.9022 - val_loss: 0.3358 - val_acc: 0.8585\n",
      "Epoch 74/90\n",
      "250/249 [==============================] - 27s 107ms/step - loss: 0.2296 - acc: 0.9017 - val_loss: 0.3408 - val_acc: 0.8657\n",
      "Epoch 75/90\n",
      "250/249 [==============================] - 27s 106ms/step - loss: 0.2315 - acc: 0.9024 - val_loss: 0.3502 - val_acc: 0.8545\n",
      "Epoch 76/90\n",
      "250/249 [==============================] - 27s 107ms/step - loss: 0.2218 - acc: 0.9082 - val_loss: 0.3537 - val_acc: 0.8550\n",
      "Epoch 77/90\n",
      "250/249 [==============================] - 27s 107ms/step - loss: 0.2216 - acc: 0.9060 - val_loss: 0.3200 - val_acc: 0.8715\n",
      "Epoch 78/90\n",
      "250/249 [==============================] - 27s 107ms/step - loss: 0.2234 - acc: 0.9072 - val_loss: 0.3144 - val_acc: 0.8725\n",
      "Epoch 79/90\n",
      "250/249 [==============================] - 27s 107ms/step - loss: 0.2175 - acc: 0.9072 - val_loss: 0.3445 - val_acc: 0.8635\n",
      "Epoch 80/90\n",
      "250/249 [==============================] - 27s 107ms/step - loss: 0.2176 - acc: 0.9097 - val_loss: 0.3237 - val_acc: 0.8625\n",
      "Epoch 81/90\n",
      "250/249 [==============================] - 27s 108ms/step - loss: 0.2105 - acc: 0.9092 - val_loss: 0.4153 - val_acc: 0.8413\n",
      "Epoch 82/90\n",
      "250/249 [==============================] - 27s 108ms/step - loss: 0.2098 - acc: 0.9128 - val_loss: 0.3155 - val_acc: 0.8675\n",
      "Epoch 83/90\n",
      "250/249 [==============================] - 27s 108ms/step - loss: 0.2055 - acc: 0.9146 - val_loss: 0.3156 - val_acc: 0.8690\n",
      "Epoch 84/90\n",
      "250/249 [==============================] - 27s 107ms/step - loss: 0.2047 - acc: 0.9144 - val_loss: 0.3196 - val_acc: 0.8688\n",
      "Epoch 85/90\n",
      "250/249 [==============================] - 26s 106ms/step - loss: 0.1978 - acc: 0.9187 - val_loss: 0.3426 - val_acc: 0.8622\n",
      "Epoch 86/90\n",
      "250/249 [==============================] - 26s 106ms/step - loss: 0.1978 - acc: 0.9171 - val_loss: 0.3230 - val_acc: 0.8732\n",
      "Epoch 87/90\n",
      "250/249 [==============================] - 27s 107ms/step - loss: 0.1972 - acc: 0.9186 - val_loss: 0.3094 - val_acc: 0.8752\n",
      "Epoch 88/90\n",
      "250/249 [==============================] - 27s 107ms/step - loss: 0.1971 - acc: 0.9192 - val_loss: 0.3223 - val_acc: 0.8705\n",
      "Epoch 89/90\n",
      "250/249 [==============================] - 27s 107ms/step - loss: 0.1913 - acc: 0.9194 - val_loss: 0.3386 - val_acc: 0.8677\n",
      "Epoch 90/90\n",
      "250/249 [==============================] - 27s 107ms/step - loss: 0.1921 - acc: 0.9209 - val_loss: 0.3116 - val_acc: 0.8745\n"
     ]
    }
   ],
   "source": [
    "train = classifier.fit_generator(image_gen.flow(train_X, train_label, batch_size=batch_size),\n",
    "          steps_per_epoch= train_X.shape[0]/batch_size,\n",
    "          epochs=90,\n",
    "          validation_data=(valid_X, valid_label),\n",
    "          verbose=1)"
   ]
  },
  {
   "cell_type": "code",
   "execution_count": 37,
   "metadata": {
    "colab": {
     "base_uri": "https://localhost:8080/",
     "height": 34
    },
    "colab_type": "code",
    "id": "F9xd46EOxQ1Z",
    "outputId": "b7b3437d-42bd-4c2a-c3f0-f8d5e962c66d"
   },
   "outputs": [
    {
     "name": "stdout",
     "output_type": "stream",
     "text": [
      "4999/4999 [==============================] - 3s 502us/step\n"
     ]
    }
   ],
   "source": [
    "score = classifier.predict(test_data, verbose=1)\n",
    "pred_class = np.round(score)"
   ]
  },
  {
   "cell_type": "code",
   "execution_count": 38,
   "metadata": {
    "colab": {
     "base_uri": "https://localhost:8080/",
     "height": 34
    },
    "colab_type": "code",
    "id": "JljxoTBh4tNa",
    "outputId": "21cafa5d-5bfb-4013-ce5a-e804227054e9"
   },
   "outputs": [
    {
     "name": "stdout",
     "output_type": "stream",
     "text": [
      "4000/4000 [==============================] - 2s 457us/step\n"
     ]
    }
   ],
   "source": [
    "score_valid = classifier.predict(valid_X, verbose=1)\n",
    "pred_class_valid = np.round(score_valid)"
   ]
  },
  {
   "cell_type": "code",
   "execution_count": 0,
   "metadata": {
    "colab": {},
    "colab_type": "code",
    "id": "4ktEnF7F416l"
   },
   "outputs": [],
   "source": [
    "print(score_valid[:10])"
   ]
  },
  {
   "cell_type": "markdown",
   "metadata": {
    "colab_type": "text",
    "id": "KGwCxd370BYq"
   },
   "source": [
    "Get image indices where classifier predicts around 50% for both class."
   ]
  },
  {
   "cell_type": "code",
   "execution_count": 0,
   "metadata": {
    "colab": {},
    "colab_type": "code",
    "id": "j0YukFRw-M26"
   },
   "outputs": [],
   "source": [
    "idx_both = []\n",
    "for i in range(len(valid_X)):\n",
    "  if score_valid[i]>0.45 and score_valid[i]<0.55:\n",
    "    idx_both.append(i)"
   ]
  },
  {
   "cell_type": "code",
   "execution_count": 0,
   "metadata": {
    "colab": {},
    "colab_type": "code",
    "id": "JJKbKtha-oEW"
   },
   "outputs": [],
   "source": [
    "print(idx_both)"
   ]
  },
  {
   "cell_type": "code",
   "execution_count": 0,
   "metadata": {
    "colab": {},
    "colab_type": "code",
    "id": "qa_WD5Z_-tNP"
   },
   "outputs": [],
   "source": [
    "plt.imshow(valid_X[1597])"
   ]
  },
  {
   "cell_type": "markdown",
   "metadata": {
    "colab_type": "text",
    "id": "iPU02mOO0M53"
   },
   "source": [
    "Get image indices where the image are misclassified"
   ]
  },
  {
   "cell_type": "code",
   "execution_count": 0,
   "metadata": {
    "colab": {},
    "colab_type": "code",
    "id": "AZrcCS-a48Jd"
   },
   "outputs": [],
   "source": [
    "idx =[]\n",
    "for i in range(len(valid_X)):\n",
    "  if pred_class_valid[i] != valid_label[i]:\n",
    "    idx.append(i)"
   ]
  },
  {
   "cell_type": "code",
   "execution_count": 0,
   "metadata": {
    "colab": {},
    "colab_type": "code",
    "id": "OOkToFs15OuA"
   },
   "outputs": [],
   "source": [
    "print(idx)"
   ]
  },
  {
   "cell_type": "code",
   "execution_count": 0,
   "metadata": {
    "colab": {},
    "colab_type": "code",
    "id": "8Kmkg3_d5Rfc"
   },
   "outputs": [],
   "source": [
    "plt.imshow(valid_X[20])\n"
   ]
  },
  {
   "cell_type": "code",
   "execution_count": 36,
   "metadata": {
    "colab": {
     "base_uri": "https://localhost:8080/",
     "height": 752
    },
    "colab_type": "code",
    "id": "oy-WNqhDMtBT",
    "outputId": "3bc2e654-8c2b-4de9-aab0-7e0cc0a91b61"
   },
   "outputs": [
    {
     "name": "stdout",
     "output_type": "stream",
     "text": [
      "dict_keys(['val_loss', 'val_acc', 'loss', 'acc'])\n"
     ]
    },
    {
     "data": {
      "image/png": "[encoded data removed]",
      "text/plain": [
       "<Figure size 576x396 with 1 Axes>"
      ]
     },
     "metadata": {
      "tags": []
     },
     "output_type": "display_data"
    },
    {
     "data": {
      "image/png": "[encoded data removed]",
      "text/plain": [
       "<Figure size 576x396 with 1 Axes>"
      ]
     },
     "metadata": {
      "tags": []
     },
     "output_type": "display_data"
    }
   ],
   "source": [
    "print(train.history.keys())\n",
    "#  \"Accuracy\"\n",
    "fig_accuracy = plt.figure()\n",
    "plt.plot(train.history['acc'])\n",
    "plt.plot(train.history['val_acc'])\n",
    "plt.title('model accuracy')\n",
    "plt.ylabel('accuracy')\n",
    "plt.xlabel('epoch')\n",
    "plt.legend(['train', 'validation'], loc='upper left')\n",
    "plt.show()\n",
    "fig_accuracy.savefig(dir_path+'accuracy_VGG.png')\n",
    "\n",
    "# \"Loss\"\n",
    "fig_loss = plt.figure()\n",
    "plt.plot(train.history['loss'])\n",
    "plt.plot(train.history['val_loss'])\n",
    "plt.title('model loss')\n",
    "plt.ylabel('loss')\n",
    "plt.xlabel('epoch')\n",
    "plt.legend(['train', 'validation'], loc='upper left')\n",
    "plt.show()\n",
    "fig_loss.savefig(dir_path+'loss_VGG.png')"
   ]
  },
  {
   "cell_type": "code",
   "execution_count": 0,
   "metadata": {
    "colab": {},
    "colab_type": "code",
    "id": "-TutQsQ2edKp"
   },
   "outputs": [],
   "source": [
    "# pred_name = []\n",
    "# for i in range(test_data.shape[0]):\n",
    "#         if pred_class[i] == 0:\n",
    "#             pred_name.append('Dog')\n",
    "#         else :\n",
    "#             pred_name.append('Cat')"
   ]
  },
  {
   "cell_type": "code",
   "execution_count": 0,
   "metadata": {
    "colab": {},
    "colab_type": "code",
    "id": "1n8P9gBzd0b2"
   },
   "outputs": [],
   "source": [
    "# with open(dir_path+'predictions.csv', mode='w',newline='',encoding='utf8') as file:\n",
    "#     writer = csv.writer(file ,quoting=csv.QUOTE_MINIMAL)\n",
    "\n",
    "#     writer.writerow(['id','label'])\n",
    "#     for i in range(test_data.shape[0]):\n",
    "#         writer.writerow([i+1, pred_name[i]])"
   ]
  }
 ],
 "metadata": {
  "accelerator": "GPU",
  "colab": {
   "name": "Kaggle_cat_dog.ipynb",
   "provenance": [],
   "version": "0.3.2"
  },
  "kernelspec": {
   "display_name": "Python 3",
   "language": "python",
   "name": "python3"
  },
  "language_info": {
   "codemirror_mode": {
    "name": "ipython",
    "version": 3
   },
   "file_extension": ".py",
   "mimetype": "text/x-python",
   "name": "python",
   "nbconvert_exporter": "python",
   "pygments_lexer": "ipython3",
   "version": "3.6.5"
  }
 },
 "nbformat": 4,
 "nbformat_minor": 1
}
