{
 "cells": [
  {
   "cell_type": "code",
   "execution_count": 1,
   "metadata": {
    "colab": {
     "base_uri": "https://localhost:8080/",
     "height": 34
    },
    "colab_type": "code",
    "executionInfo": {
     "elapsed": 1778,
     "status": "ok",
     "timestamp": 1550346853040,
     "user": {
      "displayName": "Kevin Pham",
      "photoUrl": "",
      "userId": "17463352136465305825"
     },
     "user_tz": 300
    },
    "id": "VnCmAikL4TKY",
    "outputId": "7737bc54-e962-4cf6-9843-9a9a65cf3550"
   },
   "outputs": [
    {
     "name": "stderr",
     "output_type": "stream",
     "text": [
      "Using TensorFlow backend.\n"
     ]
    }
   ],
   "source": [
    "import numpy as np\n",
    "import matplotlib.pyplot as plt\n",
    "import sklearn\n",
    "import csv\n",
    "from numpy import genfromtxt\n",
    "from mlxtend.data import loadlocal_mnist\n",
    "import keras\n",
    "from keras.models import Sequential\n",
    "\n",
    "from keras.layers.core import Dense, Dropout, Activation, Flatten\n",
    "from keras.layers import Conv2D,MaxPooling2D,LeakyReLU\n",
    "from keras.optimizers import SGD"
   ]
  },
  {
   "cell_type": "code",
   "execution_count": 2,
   "metadata": {
    "colab": {
     "base_uri": "https://localhost:8080/",
     "height": 34
    },
    "colab_type": "code",
    "executionInfo": {
     "elapsed": 1766,
     "status": "ok",
     "timestamp": 1550346853041,
     "user": {
      "displayName": "Kevin Pham",
      "photoUrl": "",
      "userId": "17463352136465305825"
     },
     "user_tz": 300
    },
    "id": "qGAcyYLP6n4S",
    "outputId": "62b913f1-19c1-4f26-9f1c-110851563666"
   },
   "outputs": [
    {
     "name": "stdout",
     "output_type": "stream",
     "text": [
      "Drive already mounted at /content/drive; to attempt to forcibly remount, call drive.mount(\"/content/drive\", force_remount=True).\n"
     ]
    }
   ],
   "source": [
    "from google.colab import drive\n",
    "drive.mount('/content/drive')"
   ]
  },
  {
   "cell_type": "code",
   "execution_count": 0,
   "metadata": {
    "colab": {},
    "colab_type": "code",
    "id": "gvfjIFEq6q9j"
   },
   "outputs": [],
   "source": [
    "dir_path = '/content/drive/My Drive/UDEM_winter_semester/LearningRepresentation/Assigment1/'"
   ]
  },
  {
   "cell_type": "code",
   "execution_count": 0,
   "metadata": {
    "colab": {},
    "colab_type": "code",
    "id": "CHzR3VO781Sx"
   },
   "outputs": [],
   "source": [
    "X, y = loadlocal_mnist(\n",
    "        images_path=dir_path+'train-images.idx3-ubyte', \n",
    "        labels_path=dir_path+'train-labels.idx1-ubyte')\n",
    "\n",
    "np.savetxt(fname=dir_path+'train_data.csv', \n",
    "           X=X, delimiter=',', fmt='%d')\n",
    "np.savetxt(fname=dir_path+'train_labels.csv', \n",
    "           X=y, delimiter=',', fmt='%d')"
   ]
  },
  {
   "cell_type": "code",
   "execution_count": 0,
   "metadata": {
    "colab": {},
    "colab_type": "code",
    "id": "0kjen_09Fesy"
   },
   "outputs": [],
   "source": [
    "train_X = genfromtxt(dir_path+'train_data.csv', delimiter=',')\n",
    "train_X_reshaped = train_X.reshape(-1,28,28,1)\n",
    "train_Y = np.genfromtxt(dir_path+'train_labels.csv', delimiter=',')\n",
    "train_Y_one_hot= keras.utils.to_categorical(train_Y)"
   ]
  },
  {
   "cell_type": "code",
   "execution_count": 0,
   "metadata": {
    "colab": {},
    "colab_type": "code",
    "id": "RoqwGAuQ3tiW"
   },
   "outputs": [],
   "source": [
    "train_X_reshaped = train_X_reshaped/255"
   ]
  },
  {
   "cell_type": "code",
   "execution_count": 0,
   "metadata": {
    "colab": {},
    "colab_type": "code",
    "id": "D1Re9QFWEqeA"
   },
   "outputs": [],
   "source": [
    "test_X, test_y = loadlocal_mnist(\n",
    "        images_path=dir_path+'t10k-images.idx3-ubyte', \n",
    "        labels_path=dir_path+'t10k-labels.idx1-ubyte')\n",
    "\n",
    "np.savetxt(fname=dir_path+'test_data.csv', \n",
    "           X=test_X, delimiter=',', fmt='%d')\n",
    "np.savetxt(fname=dir_path+'test_labels.csv', \n",
    "           X=test_y, delimiter=',', fmt='%d')"
   ]
  },
  {
   "cell_type": "code",
   "execution_count": 0,
   "metadata": {
    "colab": {},
    "colab_type": "code",
    "id": "pff58vNvFgzm"
   },
   "outputs": [],
   "source": [
    "test_X = genfromtxt(dir_path+'test_data.csv', delimiter=',')\n",
    "test_X_reshaped = test_X.reshape(-1,28,28,1)\n",
    "test_Y = np.genfromtxt(dir_path+'test_labels.csv', delimiter=',')\n",
    "test_Y_one_hot= keras.utils.to_categorical(test_Y)"
   ]
  },
  {
   "cell_type": "code",
   "execution_count": 0,
   "metadata": {
    "colab": {},
    "colab_type": "code",
    "id": "XxMKTLA13vxX"
   },
   "outputs": [],
   "source": [
    "test_X_reshaped = test_X_reshaped/255"
   ]
  },
  {
   "cell_type": "code",
   "execution_count": 10,
   "metadata": {
    "colab": {
     "base_uri": "https://localhost:8080/",
     "height": 50
    },
    "colab_type": "code",
    "executionInfo": {
     "elapsed": 71494,
     "status": "ok",
     "timestamp": 1550346922834,
     "user": {
      "displayName": "Kevin Pham",
      "photoUrl": "",
      "userId": "17463352136465305825"
     },
     "user_tz": 300
    },
    "id": "E6u9lS5t0_UJ",
    "outputId": "0425b9da-2e6b-4e59-c7f2-b4e3e47726a4"
   },
   "outputs": [
    {
     "name": "stdout",
     "output_type": "stream",
     "text": [
      "(60000, 28, 28, 1)\n",
      "(60000, 10)\n"
     ]
    }
   ],
   "source": [
    "print(train_X_reshaped.shape)\n",
    "print(train_Y_one_hot.shape)"
   ]
  },
  {
   "cell_type": "code",
   "execution_count": 11,
   "metadata": {
    "colab": {
     "base_uri": "https://localhost:8080/",
     "height": 101
    },
    "colab_type": "code",
    "executionInfo": {
     "elapsed": 71482,
     "status": "ok",
     "timestamp": 1550346922834,
     "user": {
      "displayName": "Kevin Pham",
      "photoUrl": "",
      "userId": "17463352136465305825"
     },
     "user_tz": 300
    },
    "id": "4RLZC4ER3Pua",
    "outputId": "4e842362-bf28-4275-8c34-6587c7e45d42"
   },
   "outputs": [
    {
     "name": "stdout",
     "output_type": "stream",
     "text": [
      "[[0. 0. 0. 0. 0. 1. 0. 0. 0. 0.]\n",
      " [1. 0. 0. 0. 0. 0. 0. 0. 0. 0.]\n",
      " [0. 0. 0. 0. 1. 0. 0. 0. 0. 0.]\n",
      " [0. 1. 0. 0. 0. 0. 0. 0. 0. 0.]\n",
      " [0. 0. 0. 0. 0. 0. 0. 0. 0. 1.]]\n"
     ]
    }
   ],
   "source": [
    "print(train_Y_one_hot[:5])"
   ]
  },
  {
   "cell_type": "code",
   "execution_count": 12,
   "metadata": {
    "colab": {
     "base_uri": "https://localhost:8080/",
     "height": 34
    },
    "colab_type": "code",
    "executionInfo": {
     "elapsed": 71470,
     "status": "ok",
     "timestamp": 1550346922835,
     "user": {
      "displayName": "Kevin Pham",
      "photoUrl": "",
      "userId": "17463352136465305825"
     },
     "user_tz": 300
    },
    "id": "cAfXK2Lw3YHa",
    "outputId": "1ea4cc78-db3d-4593-e0b1-d5271c39b61e"
   },
   "outputs": [
    {
     "name": "stdout",
     "output_type": "stream",
     "text": [
      "1.0\n"
     ]
    }
   ],
   "source": [
    "print(train_X_reshaped.max())"
   ]
  },
  {
   "cell_type": "code",
   "execution_count": 0,
   "metadata": {
    "colab": {},
    "colab_type": "code",
    "id": "DCZgnftmAK8I"
   },
   "outputs": [],
   "source": [
    "from sklearn.model_selection import train_test_split\n",
    "train_data,valid_data,train_label,valid_label = train_test_split(train_X_reshaped, train_Y_one_hot, test_size=0.2)"
   ]
  },
  {
   "cell_type": "code",
   "execution_count": 0,
   "metadata": {
    "colab": {},
    "colab_type": "code",
    "id": "K518o9PuEbOY"
   },
   "outputs": [],
   "source": [
    "batch_size = 64\n",
    "epochs = 10\n",
    "num_classes = 10"
   ]
  },
  {
   "cell_type": "code",
   "execution_count": 15,
   "metadata": {
    "colab": {
     "base_uri": "https://localhost:8080/",
     "height": 87
    },
    "colab_type": "code",
    "executionInfo": {
     "elapsed": 71656,
     "status": "ok",
     "timestamp": 1550346923056,
     "user": {
      "displayName": "Kevin Pham",
      "photoUrl": "",
      "userId": "17463352136465305825"
     },
     "user_tz": 300
    },
    "id": "eIDUrqcOF27t",
    "outputId": "a0fce4c6-a38d-41ab-b018-4039b38bc95f"
   },
   "outputs": [
    {
     "name": "stdout",
     "output_type": "stream",
     "text": [
      "WARNING:tensorflow:From /usr/local/lib/python3.6/dist-packages/tensorflow/python/framework/op_def_library.py:263: colocate_with (from tensorflow.python.framework.ops) is deprecated and will be removed in a future version.\n",
      "Instructions for updating:\n",
      "Colocations handled automatically by placer.\n"
     ]
    }
   ],
   "source": [
    "classifier = Sequential()\n",
    "\n",
    "classifier.add(Conv2D(32, kernel_size=(3,3),activation='relu',padding='same',input_shape=(28,28,1)))\n",
    "classifier.add(LeakyReLU(alpha=0.1))\n",
    "classifier.add(Conv2D(64, (3,3), activation='relu',padding='same'))\n",
    "classifier.add(LeakyReLU(alpha=0.1))\n",
    "classifier.add(MaxPooling2D(pool_size=(2, 2),padding='same'))\n",
    "\n",
    "classifier.add(Conv2D(128, (3,3), activation='relu',padding='same'))\n",
    "classifier.add(LeakyReLU(alpha=0.1))                  \n",
    "classifier.add(MaxPooling2D(pool_size=(2, 2),padding='same'))\n",
    "\n",
    "classifier.add(Flatten())\n",
    "\n",
    "classifier.add(Dense(64, activation='relu'))\n",
    "classifier.add(LeakyReLU(alpha=0.1))\n",
    "classifier.add(Dense(64, activation='relu'))\n",
    "classifier.add(LeakyReLU(alpha=0.1))      \n",
    "\n",
    "classifier.add(Dense(num_classes, activation='softmax'))"
   ]
  },
  {
   "cell_type": "code",
   "execution_count": 16,
   "metadata": {
    "colab": {
     "base_uri": "https://localhost:8080/",
     "height": 605
    },
    "colab_type": "code",
    "executionInfo": {
     "elapsed": 71648,
     "status": "ok",
     "timestamp": 1550346923057,
     "user": {
      "displayName": "Kevin Pham",
      "photoUrl": "",
      "userId": "17463352136465305825"
     },
     "user_tz": 300
    },
    "id": "wzQydrbUGPYg",
    "outputId": "aa3a066a-bc59-407c-bb06-85b1e9861061"
   },
   "outputs": [
    {
     "name": "stdout",
     "output_type": "stream",
     "text": [
      "_________________________________________________________________\n",
      "Layer (type)                 Output Shape              Param #   \n",
      "=================================================================\n",
      "conv2d_1 (Conv2D)            (None, 28, 28, 32)        320       \n",
      "_________________________________________________________________\n",
      "leaky_re_lu_1 (LeakyReLU)    (None, 28, 28, 32)        0         \n",
      "_________________________________________________________________\n",
      "conv2d_2 (Conv2D)            (None, 28, 28, 64)        18496     \n",
      "_________________________________________________________________\n",
      "leaky_re_lu_2 (LeakyReLU)    (None, 28, 28, 64)        0         \n",
      "_________________________________________________________________\n",
      "max_pooling2d_1 (MaxPooling2 (None, 14, 14, 64)        0         \n",
      "_________________________________________________________________\n",
      "conv2d_3 (Conv2D)            (None, 14, 14, 128)       73856     \n",
      "_________________________________________________________________\n",
      "leaky_re_lu_3 (LeakyReLU)    (None, 14, 14, 128)       0         \n",
      "_________________________________________________________________\n",
      "max_pooling2d_2 (MaxPooling2 (None, 7, 7, 128)         0         \n",
      "_________________________________________________________________\n",
      "flatten_1 (Flatten)          (None, 6272)              0         \n",
      "_________________________________________________________________\n",
      "dense_1 (Dense)              (None, 64)                401472    \n",
      "_________________________________________________________________\n",
      "leaky_re_lu_4 (LeakyReLU)    (None, 64)                0         \n",
      "_________________________________________________________________\n",
      "dense_2 (Dense)              (None, 64)                4160      \n",
      "_________________________________________________________________\n",
      "leaky_re_lu_5 (LeakyReLU)    (None, 64)                0         \n",
      "_________________________________________________________________\n",
      "dense_3 (Dense)              (None, 10)                650       \n",
      "=================================================================\n",
      "Total params: 498,954\n",
      "Trainable params: 498,954\n",
      "Non-trainable params: 0\n",
      "_________________________________________________________________\n"
     ]
    }
   ],
   "source": [
    "opt = keras.optimizers.SGD(lr=0.01, decay=0.0, momentum=0.0, nesterov=False)\n",
    "classifier.compile(loss=keras.losses.categorical_crossentropy, optimizer=opt,metrics=['accuracy'])\n",
    "classifier.summary()"
   ]
  },
  {
   "cell_type": "code",
   "execution_count": 17,
   "metadata": {
    "colab": {
     "base_uri": "https://localhost:8080/",
     "height": 440
    },
    "colab_type": "code",
    "executionInfo": {
     "elapsed": 219043,
     "status": "ok",
     "timestamp": 1550347070465,
     "user": {
      "displayName": "Kevin Pham",
      "photoUrl": "",
      "userId": "17463352136465305825"
     },
     "user_tz": 300
    },
    "id": "s9YaqIDbHcI4",
    "outputId": "4288b964-bb45-4c8f-e802-2f97d005d9c6",
    "scrolled": false
   },
   "outputs": [
    {
     "name": "stdout",
     "output_type": "stream",
     "text": [
      "WARNING:tensorflow:From /usr/local/lib/python3.6/dist-packages/tensorflow/python/ops/math_ops.py:3066: to_int32 (from tensorflow.python.ops.math_ops) is deprecated and will be removed in a future version.\n",
      "Instructions for updating:\n",
      "Use tf.cast instead.\n",
      "Train on 48000 samples, validate on 12000 samples\n",
      "Epoch 1/10\n",
      "48000/48000 [==============================] - 16s 338us/step - loss: 0.9733 - acc: 0.6758 - val_loss: 0.4010 - val_acc: 0.8705\n",
      "Epoch 2/10\n",
      "48000/48000 [==============================] - 14s 302us/step - loss: 0.2126 - acc: 0.9345 - val_loss: 0.1600 - val_acc: 0.9507\n",
      "Epoch 3/10\n",
      "48000/48000 [==============================] - 15s 304us/step - loss: 0.1300 - acc: 0.9608 - val_loss: 0.1137 - val_acc: 0.9659\n",
      "Epoch 4/10\n",
      "48000/48000 [==============================] - 15s 304us/step - loss: 0.0944 - acc: 0.9712 - val_loss: 0.0925 - val_acc: 0.9728\n",
      "Epoch 5/10\n",
      "48000/48000 [==============================] - 15s 302us/step - loss: 0.0767 - acc: 0.9766 - val_loss: 0.0918 - val_acc: 0.9726\n",
      "Epoch 6/10\n",
      "48000/48000 [==============================] - 14s 302us/step - loss: 0.0652 - acc: 0.9801 - val_loss: 0.0971 - val_acc: 0.9709\n",
      "Epoch 7/10\n",
      "48000/48000 [==============================] - 15s 302us/step - loss: 0.0581 - acc: 0.9821 - val_loss: 0.0667 - val_acc: 0.9796\n",
      "Epoch 8/10\n",
      "48000/48000 [==============================] - 15s 303us/step - loss: 0.0507 - acc: 0.9843 - val_loss: 0.0634 - val_acc: 0.9801\n",
      "Epoch 9/10\n",
      "48000/48000 [==============================] - 14s 302us/step - loss: 0.0457 - acc: 0.9858 - val_loss: 0.0667 - val_acc: 0.9802\n",
      "Epoch 10/10\n",
      "48000/48000 [==============================] - 14s 302us/step - loss: 0.0414 - acc: 0.9873 - val_loss: 0.0572 - val_acc: 0.9818\n"
     ]
    }
   ],
   "source": [
    "train = classifier.fit(train_data, train_label, batch_size=batch_size,epochs=epochs,verbose=1,validation_data=(valid_data, valid_label))"
   ]
  },
  {
   "cell_type": "code",
   "execution_count": 18,
   "metadata": {
    "colab": {
     "base_uri": "https://localhost:8080/",
     "height": 50
    },
    "colab_type": "code",
    "executionInfo": {
     "elapsed": 220955,
     "status": "ok",
     "timestamp": 1550347072387,
     "user": {
      "displayName": "Kevin Pham",
      "photoUrl": "",
      "userId": "17463352136465305825"
     },
     "user_tz": 300
    },
    "id": "GiPvS-9jN2Q4",
    "outputId": "469af310-b8c9-4161-f95e-06638d8cb833"
   },
   "outputs": [
    {
     "name": "stdout",
     "output_type": "stream",
     "text": [
      "Test loss: 0.04024069137638435\n",
      "Test accuracy: 0.9869\n"
     ]
    }
   ],
   "source": [
    "score = classifier.evaluate(test_X_reshaped, test_Y_one_hot, verbose=0)\n",
    "print('Test loss:', score[0])\n",
    "print('Test accuracy:', score[1])"
   ]
  },
  {
   "cell_type": "code",
   "execution_count": 21,
   "metadata": {
    "colab": {
     "base_uri": "https://localhost:8080/",
     "height": 752
    },
    "colab_type": "code",
    "executionInfo": {
     "elapsed": 1969,
     "status": "ok",
     "timestamp": 1550347423997,
     "user": {
      "displayName": "Kevin Pham",
      "photoUrl": "",
      "userId": "17463352136465305825"
     },
     "user_tz": 300
    },
    "id": "uDkYl4l84wWe",
    "outputId": "3b3a9212-343e-4de7-fd68-1a2d0ae67c18"
   },
   "outputs": [
    {
     "name": "stdout",
     "output_type": "stream",
     "text": [
      "dict_keys(['val_loss', 'val_acc', 'loss', 'acc'])\n"
     ]
    },
    {
     "data": {
      "image/png": "[encoded data removed]",
      "text/plain": [
       "<Figure size 576x396 with 1 Axes>"
      ]
     },
     "metadata": {
      "tags": []
     },
     "output_type": "display_data"
    },
    {
     "data": {
      "image/png": "[encoded data removed]",
      "text/plain": [
       "<Figure size 576x396 with 1 Axes>"
      ]
     },
     "metadata": {
      "tags": []
     },
     "output_type": "display_data"
    }
   ],
   "source": [
    "print(train.history.keys())\n",
    "#  \"Accuracy\"\n",
    "fig_accuracy = plt.figure()\n",
    "plt.plot(train.history['acc'])\n",
    "plt.plot(train.history['val_acc'])\n",
    "plt.title('model accuracy')\n",
    "plt.ylabel('accuracy')\n",
    "plt.xlabel('epoch')\n",
    "plt.legend(['train', 'validation'], loc='upper left')\n",
    "plt.show()\n",
    "fig_accuracy.savefig(dir_path+'accuracy_mnist_CNN.png')\n",
    "# \"Loss\"\n",
    "fig_loss = plt.figure()\n",
    "plt.plot(train.history['loss'])\n",
    "plt.plot(train.history['val_loss'])\n",
    "plt.title('model loss')\n",
    "plt.ylabel('loss')\n",
    "plt.xlabel('epoch')\n",
    "plt.legend(['train', 'validation'], loc='upper left')\n",
    "plt.show()\n",
    "fig_loss.savefig(dir_path+'loss_mnist_CNN.png')"
   ]
  }
 ],
 "metadata": {
  "accelerator": "GPU",
  "colab": {
   "name": "MNIST.ipynb",
   "provenance": [],
   "version": "0.3.2"
  },
  "kernelspec": {
   "display_name": "Python 3",
   "language": "python",
   "name": "python3"
  },
  "language_info": {
   "codemirror_mode": {
    "name": "ipython",
    "version": 3
   },
   "file_extension": ".py",
   "mimetype": "text/x-python",
   "name": "python",
   "nbconvert_exporter": "python",
   "pygments_lexer": "ipython3",
   "version": "3.6.5"
  }
 },
 "nbformat": 4,
 "nbformat_minor": 1
}
